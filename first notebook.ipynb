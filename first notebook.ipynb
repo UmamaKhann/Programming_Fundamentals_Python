{
 "cells": [
  {
   "cell_type": "code",
   "execution_count": 1,
   "id": "5cd02d20-a3f7-438e-bba0-d449dce1518d",
   "metadata": {},
   "outputs": [
    {
     "name": "stdout",
     "output_type": "stream",
     "text": [
      "return\n"
     ]
    }
   ],
   "source": [
    "a=('return')\n",
    "print(a)"
   ]
  },
  {
   "cell_type": "code",
   "execution_count": 4,
   "id": "13b4f36b-d6d0-4364-bfca-173916325b14",
   "metadata": {},
   "outputs": [
    {
     "name": "stdout",
     "output_type": "stream",
     "text": [
      "[1 2 5]\n",
      "[3 5 7]\n",
      "[ 3 10 35]\n"
     ]
    }
   ],
   "source": [
    "import numpy as np\n",
    "a=np.array([1,2,5])\n",
    "b=np.array([3,5,7])\n",
    "print(a)\n",
    "print(b)\n",
    "print(a*b)"
   ]
  },
  {
   "cell_type": "code",
   "execution_count": 5,
   "id": "c9f339cc-94a0-4751-b278-74e940b9e363",
   "metadata": {},
   "outputs": [
    {
     "name": "stdout",
     "output_type": "stream",
     "text": [
      "[1, 2, 5, 3, 5, 7]\n"
     ]
    }
   ],
   "source": [
    "l1=[1,2,5]\n",
    "l2=[3,5,7]\n",
    "print(l1+l2)"
   ]
  },
  {
   "cell_type": "code",
   "execution_count": 7,
   "id": "1940845d-a6f5-4d2e-b700-85708bc93063",
   "metadata": {},
   "outputs": [
    {
     "name": "stdout",
     "output_type": "stream",
     "text": [
      "['3' '76' '89']\n"
     ]
    }
   ],
   "source": [
    "l1=np.array([3,76,'89'])\n",
    "print(l1)"
   ]
  },
  {
   "cell_type": "code",
   "execution_count": 8,
   "id": "02e12f36-5830-4a86-9621-20839d721bdb",
   "metadata": {},
   "outputs": [
    {
     "name": "stdout",
     "output_type": "stream",
     "text": [
      "[[1, 2, 5], [1, 4, 6]]\n"
     ]
    }
   ],
   "source": [
    "l1=[[1,2,5],[1,4,6]]\n",
    "print(l1)"
   ]
  },
  {
   "cell_type": "code",
   "execution_count": null,
   "id": "4ef09c2f-f649-4814-98b2-378fbfdf8bcd",
   "metadata": {},
   "outputs": [],
   "source": []
  }
 ],
 "metadata": {
  "kernelspec": {
   "display_name": "Python 3 (ipykernel)",
   "language": "python",
   "name": "python3"
  },
  "language_info": {
   "codemirror_mode": {
    "name": "ipython",
    "version": 3
   },
   "file_extension": ".py",
   "mimetype": "text/x-python",
   "name": "python",
   "nbconvert_exporter": "python",
   "pygments_lexer": "ipython3",
   "version": "3.12.1"
  }
 },
 "nbformat": 4,
 "nbformat_minor": 5
}
