{
 "cells": [
  {
   "cell_type": "code",
   "execution_count": 1,
   "id": "b2dc1aa5-31af-4635-a911-15ae70752838",
   "metadata": {},
   "outputs": [
    {
     "name": "stdout",
     "output_type": "stream",
     "text": [
      "umama\n"
     ]
    }
   ],
   "source": [
    "import pandas as ps\n",
    "print('umama')"
   ]
  },
  {
   "cell_type": "code",
   "execution_count": 2,
   "id": "2634c0e0-55ad-43a5-9e0a-7d68d190e4a8",
   "metadata": {},
   "outputs": [
    {
     "name": "stdout",
     "output_type": "stream",
     "text": [
      "     Name  Age  Salaray\n",
      "0   umama   19    12000\n",
      "1  fatime   18     3450\n",
      "2   kinza   20    18000\n"
     ]
    }
   ],
   "source": [
    "data={'Name':['umama','fatime','kinza'],\n",
    "'Age':[19,18,20],\n",
    "      'Salaray':[12000,3450,18000]}\n",
    "df=ps.DataFrame(data)\n",
    "print(df)\n",
    "#ek sequence ma data dana rows and colmn ma"
   ]
  },
  {
   "cell_type": "code",
   "execution_count": 4,
   "id": "e21b842b-b9b0-46f1-95a7-3f199164be62",
   "metadata": {},
   "outputs": [
    {
     "ename": "SyntaxError",
     "evalue": "unterminated string literal (detected at line 1) (3638263428.py, line 1)",
     "output_type": "error",
     "traceback": [
      "\u001b[1;36m  Cell \u001b[1;32mIn[4], line 1\u001b[1;36m\u001b[0m\n\u001b[1;33m    data=ps.read_csv('\u001b[0m\n\u001b[1;37m                     ^\u001b[0m\n\u001b[1;31mSyntaxError\u001b[0m\u001b[1;31m:\u001b[0m unterminated string literal (detected at line 1)\n"
     ]
    }
   ],
   "source": [
    "data=ps.read_csv('')"
   ]
  },
  {
   "cell_type": "code",
   "execution_count": 18,
   "id": "2b44f5bb-e742-4808-94ec-529affe25af3",
   "metadata": {},
   "outputs": [
    {
     "name": "stdout",
     "output_type": "stream",
     "text": [
      "       1077430  GA  INDIVIDUAL   < 1 year                            Ryder  C  \\\n",
      "0      1072053  CA  INDIVIDUAL    9 years                   MKC Accounting  E   \n",
      "1      1069243  CA  INDIVIDUAL    4 years            Chemat Technology Inc  C   \n",
      "2      1041756  TX  INDIVIDUAL   < 1 year              barnes distribution  B   \n",
      "3      1068350  IL  INDIVIDUAL  10+ years                    J&J Steel Inc  A   \n",
      "4      1062608  CA  INDIVIDUAL    3 years                   Studio 94 Corp  C   \n",
      "...        ...  ..         ...        ...                              ... ..   \n",
      "38570   803452  NJ  INDIVIDUAL   < 1 year         Joseph M Sanzari Company  C   \n",
      "38571   970377  NY  INDIVIDUAL    8 years                        Swat Fame  C   \n",
      "38572   875376  CA  INDIVIDUAL    5 years  Anaheim Regional Medical Center  D   \n",
      "38573   972997  NY  INDIVIDUAL    5 years               Brooklyn Radiology  D   \n",
      "38574   682952  NY  INDIVIDUAL    4 years                    Allen Edmonds  F   \n",
      "\n",
      "           RENT 2021-02-11 00:00:00 2021-09-13 00:00:00 2021-04-13 00:00:00  \\\n",
      "0          RENT          2021-01-01          2021-12-14          2021-01-15   \n",
      "1          RENT          2021-01-05          2021-12-12          2021-01-09   \n",
      "2      MORTGAGE          2021-02-25          2021-12-12          2021-03-12   \n",
      "3      MORTGAGE          2021-01-01          2021-12-14          2021-01-15   \n",
      "4          RENT          2021-07-17          2021-03-16          2021-08-12   \n",
      "...         ...                 ...                 ...                 ...   \n",
      "38570  MORTGAGE          2021-07-11          2021-05-16          2021-05-16   \n",
      "38571      RENT          2021-10-11          2021-04-16          2021-05-16   \n",
      "38572      RENT          2021-09-11          2021-05-16          2021-05-16   \n",
      "38573      RENT          2021-10-11          2021-05-16          2021-05-16   \n",
      "38574      RENT          2021-07-11          2021-05-16          2021-05-16   \n",
      "\n",
      "       ...  C4   60 months  Source Verified     30000    0.01   59.83  0.1527  \\\n",
      "0      ...  E1   36 months  Source Verified   48000.0  0.0535  109.43  0.1864   \n",
      "1      ...  C5   36 months     Not Verified   50000.0  0.2088  421.65  0.1596   \n",
      "2      ...  B2   60 months  Source Verified   42000.0  0.0540   97.06  0.1065   \n",
      "3      ...  A1   36 months         Verified   83000.0  0.0231  106.53  0.0603   \n",
      "4      ...  C3   36 months     Not Verified   28000.0  0.1260  275.96  0.1465   \n",
      "...    ...  ..         ...              ...       ...     ...     ...     ...   \n",
      "38570  ...  C1   60 months         Verified  100000.0  0.1986  551.64  0.1299   \n",
      "38571  ...  C1   60 months         Verified   50000.0  0.0458  579.72  0.1349   \n",
      "38572  ...  D5   60 months         Verified   65000.0  0.1734  627.93  0.1749   \n",
      "38573  ...  D5   60 months         Verified  368000.0  0.0009  612.72  0.1825   \n",
      "38574  ...  F3   60 months         Verified   80000.0  0.0600  486.86  0.2099   \n",
      "\n",
      "        2500   4   1009  \n",
      "0       3000   4   3939  \n",
      "1      12000  11   3522  \n",
      "2       4500   9   4911  \n",
      "3       3500  28   3835  \n",
      "4       8000  11   8637  \n",
      "...      ...  ..    ...  \n",
      "38570  24250  33  31946  \n",
      "38571  25200  18  31870  \n",
      "38572  25000  20  35721  \n",
      "38573  24000   9  33677  \n",
      "38574  18000   7  27679  \n",
      "\n",
      "[38575 rows x 25 columns]\n"
     ]
    }
   ],
   "source": [
    "#(data read),if i want to excess excel file so i would installl the pip install openpyxl\n",
    "data=ps.read_excel('Umama text pandas file.xlsx')\n",
    "print(data)"
   ]
  },
  {
   "cell_type": "code",
   "execution_count": 23,
   "id": "1f2b0993-46c2-47bb-9825-859fa3ac9493",
   "metadata": {},
   "outputs": [
    {
     "name": "stdout",
     "output_type": "stream",
     "text": [
      "   1077430  GA  INDIVIDUAL   < 1 year                  Ryder  C      RENT  \\\n",
      "0  1072053  CA  INDIVIDUAL    9 years         MKC Accounting  E      RENT   \n",
      "1  1069243  CA  INDIVIDUAL    4 years  Chemat Technology Inc  C      RENT   \n",
      "2  1041756  TX  INDIVIDUAL   < 1 year    barnes distribution  B  MORTGAGE   \n",
      "3  1068350  IL  INDIVIDUAL  10+ years          J&J Steel Inc  A  MORTGAGE   \n",
      "4  1062608  CA  INDIVIDUAL    3 years         Studio 94 Corp  C      RENT   \n",
      "5  1067441  TX  INDIVIDUAL  10+ years      American Airlines  C  MORTGAGE   \n",
      "6  1066424  PA  INDIVIDUAL  10+ years            SCI Mahanoy  A       OWN   \n",
      "7  1065254  FL  INDIVIDUAL  10+ years         Tech Data Corp  A  MORTGAGE   \n",
      "8  1064589  MI  INDIVIDUAL  10+ years     teltow contracting  B  MORTGAGE   \n",
      "9  1057766  TX  INDIVIDUAL  10+ years               Ericsson  B  MORTGAGE   \n",
      "\n",
      "  2021-02-11 00:00:00 2021-09-13 00:00:00 2021-04-13 00:00:00  ...  C4  \\\n",
      "0          2021-01-01          2021-12-14          2021-01-15  ...  E1   \n",
      "1          2021-01-05          2021-12-12          2021-01-09  ...  C5   \n",
      "2          2021-02-25          2021-12-12          2021-03-12  ...  B2   \n",
      "3          2021-01-01          2021-12-14          2021-01-15  ...  A1   \n",
      "4          2021-07-17          2021-03-16          2021-08-12  ...  C3   \n",
      "5          2021-11-19          2021-06-14          2021-12-13  ...  C2   \n",
      "6          2021-06-11          2021-07-14          2021-07-14  ...  A4   \n",
      "7          2021-09-02          2021-06-15          2021-10-12  ...  A5   \n",
      "8          2021-02-09          2021-03-16          2021-03-16  ...  B5   \n",
      "9          2021-07-22          2021-09-13          2021-08-13  ...  B5   \n",
      "\n",
      "    60 months  Source Verified     30000    0.01   59.83  0.1527   2500   4  \\\n",
      "0   36 months  Source Verified   48000.0  0.0535  109.43  0.1864   3000   4   \n",
      "1   36 months     Not Verified   50000.0  0.2088  421.65  0.1596  12000  11   \n",
      "2   60 months  Source Verified   42000.0  0.0540   97.06  0.1065   4500   9   \n",
      "3   36 months         Verified   83000.0  0.0231  106.53  0.0603   3500  28   \n",
      "4   36 months     Not Verified   28000.0  0.1260  275.96  0.1465   8000  11   \n",
      "5   36 months         Verified   94800.0  0.2453  205.86  0.1427   6000  30   \n",
      "6   36 months  Source Verified   59000.0  0.0665  172.10  0.0790   5500  23   \n",
      "7   36 months         Verified  116400.0  0.0394  762.08  0.0890  24000  31   \n",
      "8   60 months     Not Verified   36000.0  0.1773   93.21  0.1269   4125  21   \n",
      "9   36 months     Not Verified   75000.0  0.0880  181.15  0.1269   5400  33   \n",
      "\n",
      "   1009  \n",
      "0  3939  \n",
      "1  3522  \n",
      "2  4911  \n",
      "3  3835  \n",
      "4  8637  \n",
      "5  7218  \n",
      "6  6172  \n",
      "7  8650  \n",
      "8  5551  \n",
      "9  6277  \n",
      "\n",
      "[10 rows x 25 columns]\n"
     ]
    }
   ],
   "source": [
    "\n"
   ]
  },
  {
   "cell_type": "code",
   "execution_count": 14,
   "id": "96d0a0b7-084a-4345-a8d5-68363137303f",
   "metadata": {},
   "outputs": [
    {
     "name": "stdout",
     "output_type": "stream",
     "text": [
      "<class 'pandas.core.frame.DataFrame'>\n",
      "RangeIndex: 38576 entries, 0 to 38575\n",
      "Data columns (total 25 columns):\n",
      " #   Column                 Non-Null Count  Dtype         \n",
      "---  ------                 --------------  -----         \n",
      " 0   id                     38576 non-null  int64         \n",
      " 1   address_state          38576 non-null  object        \n",
      " 2   application_type       38576 non-null  object        \n",
      " 3   emp_length             38576 non-null  object        \n",
      " 4   emp_title              37138 non-null  object        \n",
      " 5   grade                  38576 non-null  object        \n",
      " 6   home_ownership         38576 non-null  object        \n",
      " 7   issue_date             38576 non-null  datetime64[ns]\n",
      " 8   last_credit_pull_date  38576 non-null  datetime64[ns]\n",
      " 9   last_payment_date      38576 non-null  datetime64[ns]\n",
      " 10  loan_status            38576 non-null  object        \n",
      " 11  good vs bad            38576 non-null  object        \n",
      " 12  next_payment_date      38576 non-null  datetime64[ns]\n",
      " 13  member_id              38576 non-null  int64         \n",
      " 14  purpose                38576 non-null  object        \n",
      " 15  sub_grade              38576 non-null  object        \n",
      " 16  term                   38576 non-null  object        \n",
      " 17  verification_status    38576 non-null  object        \n",
      " 18  annual_income          38576 non-null  float64       \n",
      " 19  dti                    38576 non-null  float64       \n",
      " 20  installment            38576 non-null  float64       \n",
      " 21  int_rate               38576 non-null  float64       \n",
      " 22  loan_amount            38576 non-null  int64         \n",
      " 23  total_acc              38576 non-null  int64         \n",
      " 24  total_payment          38576 non-null  int64         \n",
      "dtypes: datetime64[ns](4), float64(4), int64(5), object(12)\n",
      "memory usage: 7.4+ MB\n",
      "None\n"
     ]
    }
   ],
   "source": [
    "#data types \n",
    "#method\n",
    "print(data.info())"
   ]
  },
  {
   "cell_type": "code",
   "execution_count": 24,
   "id": "9c32c8f4-baaa-4dd0-8a43-301c9d4b449d",
   "metadata": {},
   "outputs": [
    {
     "name": "stdout",
     "output_type": "stream",
     "text": [
      "   1077430  GA  INDIVIDUAL   < 1 year                  Ryder  C      RENT  \\\n",
      "0  1072053  CA  INDIVIDUAL    9 years         MKC Accounting  E      RENT   \n",
      "1  1069243  CA  INDIVIDUAL    4 years  Chemat Technology Inc  C      RENT   \n",
      "2  1041756  TX  INDIVIDUAL   < 1 year    barnes distribution  B  MORTGAGE   \n",
      "3  1068350  IL  INDIVIDUAL  10+ years          J&J Steel Inc  A  MORTGAGE   \n",
      "4  1062608  CA  INDIVIDUAL    3 years         Studio 94 Corp  C      RENT   \n",
      "5  1067441  TX  INDIVIDUAL  10+ years      American Airlines  C  MORTGAGE   \n",
      "6  1066424  PA  INDIVIDUAL  10+ years            SCI Mahanoy  A       OWN   \n",
      "7  1065254  FL  INDIVIDUAL  10+ years         Tech Data Corp  A  MORTGAGE   \n",
      "8  1064589  MI  INDIVIDUAL  10+ years     teltow contracting  B  MORTGAGE   \n",
      "9  1057766  TX  INDIVIDUAL  10+ years               Ericsson  B  MORTGAGE   \n",
      "\n",
      "  2021-02-11 00:00:00 2021-09-13 00:00:00 2021-04-13 00:00:00  ...  C4  \\\n",
      "0          2021-01-01          2021-12-14          2021-01-15  ...  E1   \n",
      "1          2021-01-05          2021-12-12          2021-01-09  ...  C5   \n",
      "2          2021-02-25          2021-12-12          2021-03-12  ...  B2   \n",
      "3          2021-01-01          2021-12-14          2021-01-15  ...  A1   \n",
      "4          2021-07-17          2021-03-16          2021-08-12  ...  C3   \n",
      "5          2021-11-19          2021-06-14          2021-12-13  ...  C2   \n",
      "6          2021-06-11          2021-07-14          2021-07-14  ...  A4   \n",
      "7          2021-09-02          2021-06-15          2021-10-12  ...  A5   \n",
      "8          2021-02-09          2021-03-16          2021-03-16  ...  B5   \n",
      "9          2021-07-22          2021-09-13          2021-08-13  ...  B5   \n",
      "\n",
      "    60 months  Source Verified     30000    0.01   59.83  0.1527   2500   4  \\\n",
      "0   36 months  Source Verified   48000.0  0.0535  109.43  0.1864   3000   4   \n",
      "1   36 months     Not Verified   50000.0  0.2088  421.65  0.1596  12000  11   \n",
      "2   60 months  Source Verified   42000.0  0.0540   97.06  0.1065   4500   9   \n",
      "3   36 months         Verified   83000.0  0.0231  106.53  0.0603   3500  28   \n",
      "4   36 months     Not Verified   28000.0  0.1260  275.96  0.1465   8000  11   \n",
      "5   36 months         Verified   94800.0  0.2453  205.86  0.1427   6000  30   \n",
      "6   36 months  Source Verified   59000.0  0.0665  172.10  0.0790   5500  23   \n",
      "7   36 months         Verified  116400.0  0.0394  762.08  0.0890  24000  31   \n",
      "8   60 months     Not Verified   36000.0  0.1773   93.21  0.1269   4125  21   \n",
      "9   36 months     Not Verified   75000.0  0.0880  181.15  0.1269   5400  33   \n",
      "\n",
      "   1009  \n",
      "0  3939  \n",
      "1  3522  \n",
      "2  4911  \n",
      "3  3835  \n",
      "4  8637  \n",
      "5  7218  \n",
      "6  6172  \n",
      "7  8650  \n",
      "8  5551  \n",
      "9  6277  \n",
      "\n",
      "[10 rows x 25 columns]\n"
     ]
    }
   ],
   "source": [
    "#exploring data in pandas\n",
    "#agar data bara ha tu wo sb nh dehkai ga tu ma ya lehko gi num ka sath ka mujhai kitna data dehkna ha \n",
    "data=ps.read_excel('Umama text pandas file.xlsx')\n",
    "print(data.head(10))"
   ]
  },
  {
   "cell_type": "code",
   "execution_count": 25,
   "id": "fca9c094-8332-44ea-ac90-b18a685c50b2",
   "metadata": {},
   "outputs": [
    {
     "name": "stdout",
     "output_type": "stream",
     "text": [
      "       1077430  GA  INDIVIDUAL  < 1 year  \\\n",
      "38565  1007647  VA  INDIVIDUAL    1 year   \n",
      "38566  1020423  GA  INDIVIDUAL  < 1 year   \n",
      "38567   792945  IL  INDIVIDUAL   3 years   \n",
      "38568   844956  VA  INDIVIDUAL   2 years   \n",
      "38569   841271  CT  INDIVIDUAL    1 year   \n",
      "38570   803452  NJ  INDIVIDUAL  < 1 year   \n",
      "38571   970377  NY  INDIVIDUAL   8 years   \n",
      "38572   875376  CA  INDIVIDUAL   5 years   \n",
      "38573   972997  NY  INDIVIDUAL   5 years   \n",
      "38574   682952  NY  INDIVIDUAL   4 years   \n",
      "\n",
      "                                          Ryder  C      RENT  \\\n",
      "38565  Ebert & Baumann Consulting Engineers, In  C      RENT   \n",
      "38566                            Triton Digital  D      RENT   \n",
      "38567                                  Intertek  E      RENT   \n",
      "38568                                      SAIC  G      RENT   \n",
      "38569                                 Travelers  D  MORTGAGE   \n",
      "38570                  Joseph M Sanzari Company  C  MORTGAGE   \n",
      "38571                                 Swat Fame  C      RENT   \n",
      "38572           Anaheim Regional Medical Center  D      RENT   \n",
      "38573                        Brooklyn Radiology  D      RENT   \n",
      "38574                             Allen Edmonds  F      RENT   \n",
      "\n",
      "      2021-02-11 00:00:00 2021-09-13 00:00:00 2021-04-13 00:00:00  ...  C4  \\\n",
      "38565          2021-11-11          2021-05-16          2021-05-16  ...  C1   \n",
      "38566          2021-11-11          2021-05-16          2021-05-16  ...  D3   \n",
      "38567          2021-06-11          2021-05-16          2021-05-16  ...  E2   \n",
      "38568          2021-08-11          2021-05-16          2021-05-16  ...  G1   \n",
      "38569          2021-08-11          2021-04-16          2021-05-16  ...  D2   \n",
      "38570          2021-07-11          2021-05-16          2021-05-16  ...  C1   \n",
      "38571          2021-10-11          2021-04-16          2021-05-16  ...  C1   \n",
      "38572          2021-09-11          2021-05-16          2021-05-16  ...  D5   \n",
      "38573          2021-10-11          2021-05-16          2021-05-16  ...  D5   \n",
      "38574          2021-07-11          2021-05-16          2021-05-16  ...  F3   \n",
      "\n",
      "        60 months  Source Verified     30000    0.01   59.83  0.1527   2500  \\\n",
      "38565   60 months  Source Verified   72000.0  0.0117  345.08  0.1349  15000   \n",
      "38566   60 months  Source Verified   43500.0  0.0041  164.99  0.1727   6600   \n",
      "38567   60 months  Source Verified   57040.5  0.0496  512.13  0.1839  20000   \n",
      "38568   60 months  Source Verified  150000.0  0.0888  113.50  0.2211   4100   \n",
      "38569   60 months  Source Verified   56000.0  0.1200  291.76  0.1599  12000   \n",
      "38570   60 months         Verified  100000.0  0.1986  551.64  0.1299  24250   \n",
      "38571   60 months         Verified   50000.0  0.0458  579.72  0.1349  25200   \n",
      "38572   60 months         Verified   65000.0  0.1734  627.93  0.1749  25000   \n",
      "38573   60 months         Verified  368000.0  0.0009  612.72  0.1825  24000   \n",
      "38574   60 months         Verified   80000.0  0.0600  486.86  0.2099  18000   \n",
      "\n",
      "        4   1009  \n",
      "38565   7  18588  \n",
      "38566   9   8890  \n",
      "38567  20  29702  \n",
      "38568  29   6463  \n",
      "38569  18  16587  \n",
      "38570  33  31946  \n",
      "38571  18  31870  \n",
      "38572  20  35721  \n",
      "38573   9  33677  \n",
      "38574   7  27679  \n",
      "\n",
      "[10 rows x 25 columns]\n"
     ]
    }
   ],
   "source": [
    "data=ps.read_excel('Umama text pandas file.xlsx')\n",
    "print(data.tail(10))"
   ]
  },
  {
   "cell_type": "code",
   "execution_count": 26,
   "id": "18c200b8-72dd-40c9-a6e6-335bbcbd984e",
   "metadata": {},
   "outputs": [
    {
     "data": {
      "text/html": [
       "<div>\n",
       "<style scoped>\n",
       "    .dataframe tbody tr th:only-of-type {\n",
       "        vertical-align: middle;\n",
       "    }\n",
       "\n",
       "    .dataframe tbody tr th {\n",
       "        vertical-align: top;\n",
       "    }\n",
       "\n",
       "    .dataframe thead th {\n",
       "        text-align: right;\n",
       "    }\n",
       "</style>\n",
       "<table border=\"1\" class=\"dataframe\">\n",
       "  <thead>\n",
       "    <tr style=\"text-align: right;\">\n",
       "      <th></th>\n",
       "      <th>1077430</th>\n",
       "      <th>2021-02-11 00:00:00</th>\n",
       "      <th>2021-09-13 00:00:00</th>\n",
       "      <th>2021-04-13 00:00:00</th>\n",
       "      <th>NaN</th>\n",
       "      <th>2021-05-13 00:00:00</th>\n",
       "      <th>1314167</th>\n",
       "      <th>30000</th>\n",
       "      <th>0.01</th>\n",
       "      <th>59.83</th>\n",
       "      <th>0.1527</th>\n",
       "      <th>2500</th>\n",
       "      <th>4</th>\n",
       "      <th>1009</th>\n",
       "    </tr>\n",
       "  </thead>\n",
       "  <tbody>\n",
       "    <tr>\n",
       "      <th>count</th>\n",
       "      <td>3.857500e+04</td>\n",
       "      <td>38575</td>\n",
       "      <td>38575</td>\n",
       "      <td>38575</td>\n",
       "      <td>0.0</td>\n",
       "      <td>38575</td>\n",
       "      <td>3.857500e+04</td>\n",
       "      <td>3.857500e+04</td>\n",
       "      <td>38575.000000</td>\n",
       "      <td>38575.000000</td>\n",
       "      <td>38575.000000</td>\n",
       "      <td>38575.000000</td>\n",
       "      <td>38575.000000</td>\n",
       "      <td>38575.000000</td>\n",
       "    </tr>\n",
       "    <tr>\n",
       "      <th>mean</th>\n",
       "      <td>6.810268e+05</td>\n",
       "      <td>2021-07-16 02:37:22.965651200</td>\n",
       "      <td>2021-06-08 13:32:58.203499776</td>\n",
       "      <td>2021-06-26 09:54:55.574854144</td>\n",
       "      <td>NaN</td>\n",
       "      <td>2021-07-26 20:45:08.282566656</td>\n",
       "      <td>8.476394e+05</td>\n",
       "      <td>6.964557e+04</td>\n",
       "      <td>0.133278</td>\n",
       "      <td>326.869887</td>\n",
       "      <td>0.120487</td>\n",
       "      <td>11296.294880</td>\n",
       "      <td>22.133014</td>\n",
       "      <td>12263.640285</td>\n",
       "    </tr>\n",
       "    <tr>\n",
       "      <th>min</th>\n",
       "      <td>5.473400e+04</td>\n",
       "      <td>2021-01-01 00:00:00</td>\n",
       "      <td>2021-01-08 00:00:00</td>\n",
       "      <td>2021-01-08 00:00:00</td>\n",
       "      <td>NaN</td>\n",
       "      <td>2021-02-08 00:00:00</td>\n",
       "      <td>7.069900e+04</td>\n",
       "      <td>4.000000e+03</td>\n",
       "      <td>0.000000</td>\n",
       "      <td>15.690000</td>\n",
       "      <td>0.054200</td>\n",
       "      <td>500.000000</td>\n",
       "      <td>2.000000</td>\n",
       "      <td>34.000000</td>\n",
       "    </tr>\n",
       "    <tr>\n",
       "      <th>25%</th>\n",
       "      <td>5.135110e+05</td>\n",
       "      <td>2021-04-11 00:00:00</td>\n",
       "      <td>2021-04-15 00:00:00</td>\n",
       "      <td>2021-03-16 00:00:00</td>\n",
       "      <td>NaN</td>\n",
       "      <td>2021-04-16 00:00:00</td>\n",
       "      <td>6.629745e+05</td>\n",
       "      <td>4.150000e+04</td>\n",
       "      <td>0.082100</td>\n",
       "      <td>168.450000</td>\n",
       "      <td>0.093200</td>\n",
       "      <td>5500.000000</td>\n",
       "      <td>14.000000</td>\n",
       "      <td>5633.000000</td>\n",
       "    </tr>\n",
       "    <tr>\n",
       "      <th>50%</th>\n",
       "      <td>6.627220e+05</td>\n",
       "      <td>2021-07-11 00:00:00</td>\n",
       "      <td>2021-05-16 00:00:00</td>\n",
       "      <td>2021-06-14 00:00:00</td>\n",
       "      <td>NaN</td>\n",
       "      <td>2021-07-14 00:00:00</td>\n",
       "      <td>8.473430e+05</td>\n",
       "      <td>6.000000e+04</td>\n",
       "      <td>0.134200</td>\n",
       "      <td>283.050000</td>\n",
       "      <td>0.118600</td>\n",
       "      <td>10000.000000</td>\n",
       "      <td>20.000000</td>\n",
       "      <td>10042.000000</td>\n",
       "    </tr>\n",
       "    <tr>\n",
       "      <th>75%</th>\n",
       "      <td>8.364885e+05</td>\n",
       "      <td>2021-10-11 00:00:00</td>\n",
       "      <td>2021-08-13 00:00:00</td>\n",
       "      <td>2021-09-15 00:00:00</td>\n",
       "      <td>NaN</td>\n",
       "      <td>2021-10-15 00:00:00</td>\n",
       "      <td>1.045633e+06</td>\n",
       "      <td>8.320100e+04</td>\n",
       "      <td>0.185900</td>\n",
       "      <td>434.485000</td>\n",
       "      <td>0.145900</td>\n",
       "      <td>15000.000000</td>\n",
       "      <td>29.000000</td>\n",
       "      <td>16658.000000</td>\n",
       "    </tr>\n",
       "    <tr>\n",
       "      <th>max</th>\n",
       "      <td>1.077501e+06</td>\n",
       "      <td>2021-12-12 00:00:00</td>\n",
       "      <td>2022-01-20 00:00:00</td>\n",
       "      <td>2021-12-15 00:00:00</td>\n",
       "      <td>NaN</td>\n",
       "      <td>2022-01-15 00:00:00</td>\n",
       "      <td>1.313524e+06</td>\n",
       "      <td>6.000000e+06</td>\n",
       "      <td>0.299900</td>\n",
       "      <td>1305.190000</td>\n",
       "      <td>0.245900</td>\n",
       "      <td>35000.000000</td>\n",
       "      <td>90.000000</td>\n",
       "      <td>58564.000000</td>\n",
       "    </tr>\n",
       "    <tr>\n",
       "      <th>std</th>\n",
       "      <td>2.113177e+05</td>\n",
       "      <td>NaN</td>\n",
       "      <td>NaN</td>\n",
       "      <td>NaN</td>\n",
       "      <td>NaN</td>\n",
       "      <td>NaN</td>\n",
       "      <td>2.668033e+05</td>\n",
       "      <td>6.429420e+04</td>\n",
       "      <td>0.066659</td>\n",
       "      <td>209.090290</td>\n",
       "      <td>0.037164</td>\n",
       "      <td>7460.708304</td>\n",
       "      <td>11.392056</td>\n",
       "      <td>9051.040703</td>\n",
       "    </tr>\n",
       "  </tbody>\n",
       "</table>\n",
       "</div>"
      ],
      "text/plain": [
       "            1077430            2021-02-11 00:00:00  \\\n",
       "count  3.857500e+04                          38575   \n",
       "mean   6.810268e+05  2021-07-16 02:37:22.965651200   \n",
       "min    5.473400e+04            2021-01-01 00:00:00   \n",
       "25%    5.135110e+05            2021-04-11 00:00:00   \n",
       "50%    6.627220e+05            2021-07-11 00:00:00   \n",
       "75%    8.364885e+05            2021-10-11 00:00:00   \n",
       "max    1.077501e+06            2021-12-12 00:00:00   \n",
       "std    2.113177e+05                            NaN   \n",
       "\n",
       "                 2021-09-13 00:00:00            2021-04-13 00:00:00  NaN  \\\n",
       "count                          38575                          38575  0.0   \n",
       "mean   2021-06-08 13:32:58.203499776  2021-06-26 09:54:55.574854144  NaN   \n",
       "min              2021-01-08 00:00:00            2021-01-08 00:00:00  NaN   \n",
       "25%              2021-04-15 00:00:00            2021-03-16 00:00:00  NaN   \n",
       "50%              2021-05-16 00:00:00            2021-06-14 00:00:00  NaN   \n",
       "75%              2021-08-13 00:00:00            2021-09-15 00:00:00  NaN   \n",
       "max              2022-01-20 00:00:00            2021-12-15 00:00:00  NaN   \n",
       "std                              NaN                            NaN  NaN   \n",
       "\n",
       "                 2021-05-13 00:00:00       1314167         30000  \\\n",
       "count                          38575  3.857500e+04  3.857500e+04   \n",
       "mean   2021-07-26 20:45:08.282566656  8.476394e+05  6.964557e+04   \n",
       "min              2021-02-08 00:00:00  7.069900e+04  4.000000e+03   \n",
       "25%              2021-04-16 00:00:00  6.629745e+05  4.150000e+04   \n",
       "50%              2021-07-14 00:00:00  8.473430e+05  6.000000e+04   \n",
       "75%              2021-10-15 00:00:00  1.045633e+06  8.320100e+04   \n",
       "max              2022-01-15 00:00:00  1.313524e+06  6.000000e+06   \n",
       "std                              NaN  2.668033e+05  6.429420e+04   \n",
       "\n",
       "               0.01         59.83        0.1527          2500             4  \\\n",
       "count  38575.000000  38575.000000  38575.000000  38575.000000  38575.000000   \n",
       "mean       0.133278    326.869887      0.120487  11296.294880     22.133014   \n",
       "min        0.000000     15.690000      0.054200    500.000000      2.000000   \n",
       "25%        0.082100    168.450000      0.093200   5500.000000     14.000000   \n",
       "50%        0.134200    283.050000      0.118600  10000.000000     20.000000   \n",
       "75%        0.185900    434.485000      0.145900  15000.000000     29.000000   \n",
       "max        0.299900   1305.190000      0.245900  35000.000000     90.000000   \n",
       "std        0.066659    209.090290      0.037164   7460.708304     11.392056   \n",
       "\n",
       "               1009  \n",
       "count  38575.000000  \n",
       "mean   12263.640285  \n",
       "min       34.000000  \n",
       "25%     5633.000000  \n",
       "50%    10042.000000  \n",
       "75%    16658.000000  \n",
       "max    58564.000000  \n",
       "std     9051.040703  "
      ]
     },
     "execution_count": 26,
     "metadata": {},
     "output_type": "execute_result"
    }
   ],
   "source": [
    "#jo values num ma hongi oska niklai ga (numeric values ka)\n",
    "#five values method\n",
    "data.describe()"
   ]
  },
  {
   "cell_type": "code",
   "execution_count": 27,
   "id": "40cce158-dd64-4e5b-ba6d-8badc3938f66",
   "metadata": {},
   "outputs": [
    {
     "name": "stdout",
     "output_type": "stream",
     "text": [
      "1077430                    0\n",
      "GA                         0\n",
      "INDIVIDUAL                 0\n",
      "< 1 year                   0\n",
      "Ryder                   1438\n",
      "C                          0\n",
      "RENT                       0\n",
      "2021-02-11 00:00:00        0\n",
      "2021-09-13 00:00:00        0\n",
      "2021-04-13 00:00:00        0\n",
      "Charged Off                0\n",
      "NaN                    38575\n",
      "2021-05-13 00:00:00        0\n",
      "1314167                    0\n",
      "car                        0\n",
      "C4                         0\n",
      " 60 months                 0\n",
      "Source Verified            0\n",
      "30000                      0\n",
      "0.01                       0\n",
      "59.83                      0\n",
      "0.1527                     0\n",
      "2500                       0\n",
      "4                          0\n",
      "1009                       0\n",
      "dtype: int64\n"
     ]
    }
   ],
   "source": [
    "print(data.isnull().sum())#jahan pr value nh ha wahan true ai ga"
   ]
  },
  {
   "cell_type": "code",
   "execution_count": 33,
   "id": "6e158058-b6cb-4786-b634-849142e16d07",
   "metadata": {},
   "outputs": [
    {
     "name": "stdout",
     "output_type": "stream",
     "text": [
      "8\n"
     ]
    }
   ],
   "source": [
    "#handle duplicate values\n",
    "data=ps.read_excel('Umama text pandas file.xlsx')\n",
    "#print(data.duplicated())\n",
    "print(data['TERM'].duplicated().sum())#total sum of duplicate specific col ka"
   ]
  },
  {
   "cell_type": "code",
   "execution_count": 36,
   "id": "e9538729-6515-4160-8c88-2e6230df6ea7",
   "metadata": {},
   "outputs": [
    {
     "name": "stdout",
     "output_type": "stream",
     "text": [
      "         TERM VERIFICATION_STATUS  ANNUAL_INCOME     DTI  INSTALLMENT  \\\n",
      "0   60 months     Source Verified          30000  0.0100        59.83   \n",
      "1   36 months     Source Verified          48000  0.0535       109.43   \n",
      "\n",
      "   INT_RATE  LOAN AMOUNT  TOTAL ACCOUNT  PAYMENT  \n",
      "0    0.1527         2500              4     1009  \n",
      "1    0.1864         3000              4     3939  \n"
     ]
    }
   ],
   "source": [
    "print(data.drop_duplicates('TERM')) #jo col unique chahiyai os sa drop kari ga (name,gender age sa nh)"
   ]
  },
  {
   "cell_type": "code",
   "execution_count": 37,
   "id": "03e1e2bc-0d3f-40c4-ac15-9988a6be7d26",
   "metadata": {},
   "outputs": [
    {
     "name": "stdout",
     "output_type": "stream",
     "text": [
      "         TERM VERIFICATION_STATUS  ANNUAL_INCOME     DTI  INSTALLMENT  \\\n",
      "0   60 months     Source Verified        30000.0  0.0100        59.83   \n",
      "1   36 months     Source Verified        48000.0  0.0535       109.43   \n",
      "2   36 months        Not Verified        50000.0  0.2088       421.65   \n",
      "3   60 months     Source Verified            NaN  0.0540        97.06   \n",
      "4   36 months            Verified        83000.0  0.0231       106.53   \n",
      "5   36 months        Not Verified        28000.0  0.1260       275.96   \n",
      "6   36 months            Verified        94800.0  0.2453       205.86   \n",
      "7   36 months     Source Verified        59000.0  0.0665       172.10   \n",
      "8   36 months            Verified       116400.0  0.0394       762.08   \n",
      "9   60 months        Not Verified        36000.0  0.1773        93.21   \n",
      "\n",
      "   INT_RATE  LOAN AMOUNT  TOTAL ACCOUNT  PAYMENT  \n",
      "0    0.1527         2500            4.0     1009  \n",
      "1    0.1864         3000            NaN     3939  \n",
      "2    0.1596        12000           11.0     3522  \n",
      "3    0.1065         4500            9.0     4911  \n",
      "4    0.0603         3500           28.0     3835  \n",
      "5    0.1465         8000           11.0     8637  \n",
      "6       NaN         6000           30.0     7218  \n",
      "7    0.0790         5500            NaN     6172  \n",
      "8    0.0890        24000           31.0     8650  \n",
      "9    0.1269         4125           21.0     5551  \n"
     ]
    }
   ],
   "source": [
    "#working with missing data \n",
    "data=ps.read_excel('Umama text pandas file.xlsx')\n",
    "print(data)\n"
   ]
  },
  {
   "cell_type": "code",
   "execution_count": 38,
   "id": "447f753a-88d6-4ad7-ab43-b992f36e963e",
   "metadata": {},
   "outputs": [
    {
     "name": "stdout",
     "output_type": "stream",
     "text": [
      "    TERM  VERIFICATION_STATUS  ANNUAL_INCOME    DTI  INSTALLMENT  INT_RATE  \\\n",
      "0  False                False          False  False        False     False   \n",
      "1  False                False          False  False        False     False   \n",
      "2  False                False          False  False        False     False   \n",
      "3  False                False           True  False        False     False   \n",
      "4  False                False          False  False        False     False   \n",
      "5  False                False          False  False        False     False   \n",
      "6  False                False          False  False        False      True   \n",
      "7  False                False          False  False        False     False   \n",
      "8  False                False          False  False        False     False   \n",
      "9  False                False          False  False        False     False   \n",
      "\n",
      "   LOAN AMOUNT  TOTAL ACCOUNT  PAYMENT  \n",
      "0        False          False    False  \n",
      "1        False           True    False  \n",
      "2        False          False    False  \n",
      "3        False          False    False  \n",
      "4        False          False    False  \n",
      "5        False          False    False  \n",
      "6        False          False    False  \n",
      "7        False           True    False  \n",
      "8        False          False    False  \n",
      "9        False          False    False  \n"
     ]
    }
   ],
   "source": [
    "print(data.isnull())"
   ]
  },
  {
   "cell_type": "code",
   "execution_count": 39,
   "id": "e65153c8-af3d-4ef2-84c3-cd32ae11a85f",
   "metadata": {},
   "outputs": [
    {
     "name": "stdout",
     "output_type": "stream",
     "text": [
      "TERM                   0\n",
      "VERIFICATION_STATUS    0\n",
      "ANNUAL_INCOME          1\n",
      "DTI                    0\n",
      "INSTALLMENT            0\n",
      "INT_RATE               1\n",
      "LOAN AMOUNT            0\n",
      "TOTAL ACCOUNT          2\n",
      "PAYMENT                0\n",
      "dtype: int64\n"
     ]
    }
   ],
   "source": [
    "print(data.isnull().sum())"
   ]
  },
  {
   "cell_type": "code",
   "execution_count": 40,
   "id": "6ceaeaaa-c120-4ca8-8a20-a9bf18504a9e",
   "metadata": {},
   "outputs": [
    {
     "name": "stdout",
     "output_type": "stream",
     "text": [
      "         TERM VERIFICATION_STATUS  ANNUAL_INCOME     DTI  INSTALLMENT  \\\n",
      "0   60 months     Source Verified        30000.0  0.0100        59.83   \n",
      "2   36 months        Not Verified        50000.0  0.2088       421.65   \n",
      "4   36 months            Verified        83000.0  0.0231       106.53   \n",
      "5   36 months        Not Verified        28000.0  0.1260       275.96   \n",
      "8   36 months            Verified       116400.0  0.0394       762.08   \n",
      "9   60 months        Not Verified        36000.0  0.1773        93.21   \n",
      "\n",
      "   INT_RATE  LOAN AMOUNT  TOTAL ACCOUNT  PAYMENT  \n",
      "0    0.1527         2500            4.0     1009  \n",
      "2    0.1596        12000           11.0     3522  \n",
      "4    0.0603         3500           28.0     3835  \n",
      "5    0.1465         8000           11.0     8637  \n",
      "8    0.0890        24000           31.0     8650  \n",
      "9    0.1269         4125           21.0     5551  \n"
     ]
    }
   ],
   "source": [
    "print(data.dropna())"
   ]
  },
  {
   "cell_type": "code",
   "execution_count": 4,
   "id": "9df75d88-d0df-4899-ab1d-4c405fc4b7c6",
   "metadata": {},
   "outputs": [
    {
     "name": "stdout",
     "output_type": "stream",
     "text": [
      "    EEID    NAME GENDER   SALARY\n",
      "0  EMP01   UMAMA      F      NaN\n",
      "1  EMP02  FATIMA      F  23000.0\n",
      "2  EMP03   HAMNA      F   7890.0\n",
      "3  EMP04   KINZA      F   4567.0\n",
      "4  EMP01   UMAMA      F  24108.0\n",
      "5  EMP02  FATIMA    NaN   2345.0\n",
      "6  EMP05  GHANIA      F   6669.0\n"
     ]
    }
   ],
   "source": [
    "import pandas as ps\n",
    "data=ps.read_csv('test_data_csv.csv')\n",
    "print(data)\n"
   ]
  },
  {
   "cell_type": "code",
   "execution_count": 5,
   "id": "5390c613-6088-4172-a323-7a938f35f25f",
   "metadata": {},
   "outputs": [
    {
     "name": "stdout",
     "output_type": "stream",
     "text": [
      "    EEID    NAME GENDER   SALARY\n",
      "0  EMP01   UMAMA      F   4000.0\n",
      "1  EMP02  FATIMA      F  23000.0\n",
      "2  EMP03   HAMNA      F   7890.0\n",
      "3  EMP04   KINZA      F   4567.0\n",
      "4  EMP01   UMAMA      F  24108.0\n",
      "5  EMP02  FATIMA   4000   2345.0\n",
      "6  EMP05  GHANIA      F   6669.0\n"
     ]
    }
   ],
   "source": [
    "import numpy as np\n",
    "print(data.replace(np.nan,4000))\n",
    "#jahn jahan nan ha wahan ajai gi sari values jo nh chahiyai"
   ]
  },
  {
   "cell_type": "code",
   "execution_count": 6,
   "id": "ab78efbc-683b-48a8-a6ae-da8f5c479e6f",
   "metadata": {},
   "outputs": [
    {
     "name": "stdout",
     "output_type": "stream",
     "text": [
      "    EEID    NAME GENDER   SALARY\n",
      "0  EMP01   UMAMA      F   2000.0\n",
      "1  EMP02  FATIMA      F  23000.0\n",
      "2  EMP03   HAMNA      F   7890.0\n",
      "3  EMP04   KINZA      F   4567.0\n",
      "4  EMP01   UMAMA      F  24108.0\n",
      "5  EMP02  FATIMA    NaN   2345.0\n",
      "6  EMP05  GHANIA      F   6669.0\n"
     ]
    }
   ],
   "source": [
    "data['SALARY']=data['SALARY'].replace(np.nan,2000)\n",
    "print(data)"
   ]
  },
  {
   "cell_type": "code",
   "execution_count": 7,
   "id": "8833e9a8-20ab-41e1-8203-7ae53890a88f",
   "metadata": {},
   "outputs": [
    {
     "name": "stdout",
     "output_type": "stream",
     "text": [
      "10082.714285714286\n"
     ]
    }
   ],
   "source": [
    "print(data['SALARY'].mean())#jo mean aya ha wo ap nan valie ma lehk sehktai hu"
   ]
  },
  {
   "cell_type": "code",
   "execution_count": 17,
   "id": "145747da-b0e2-4bc1-a6cc-4993d0e540fc",
   "metadata": {},
   "outputs": [
    {
     "name": "stdout",
     "output_type": "stream",
     "text": [
      "    EEID    NAME GENDER   SALARY\n",
      "0  EMP01   UMAMA      F      NaN\n",
      "1  EMP02  FATIMA      F  23000.0\n",
      "2  EMP03   USMAN      M   7890.0\n",
      "3  EMP04   KINZA      F   4567.0\n",
      "4  EMP01   UMAMA      F  24108.0\n",
      "5  EMP02  FATIMA    NaN   2345.0\n",
      "6  EMP05     NaN      F   6669.0\n"
     ]
    }
   ],
   "source": [
    "data=ps.read_csv('test_data_csv.csv')\n",
    "print(data)\n"
   ]
  },
  {
   "cell_type": "code",
   "execution_count": 18,
   "id": "17b22c50-fd0a-4a06-b11e-f8f22e7c30db",
   "metadata": {},
   "outputs": [
    {
     "name": "stdout",
     "output_type": "stream",
     "text": [
      "    EEID    NAME GENDER   SALARY\n",
      "0  EMP01   UMAMA      F  23000.0\n",
      "1  EMP02  FATIMA      F  23000.0\n",
      "2  EMP03   USMAN      M   7890.0\n",
      "3  EMP04   KINZA      F   4567.0\n",
      "4  EMP01   UMAMA      F  24108.0\n",
      "5  EMP02  FATIMA      F   2345.0\n",
      "6  EMP05     NaN      F   6669.0\n"
     ]
    },
    {
     "name": "stderr",
     "output_type": "stream",
     "text": [
      "C:\\Users\\Administrator\\AppData\\Local\\Temp\\ipykernel_14224\\2050604284.py:1: FutureWarning: DataFrame.fillna with 'method' is deprecated and will raise in a future version. Use obj.ffill() or obj.bfill() instead.\n",
      "  print(data.fillna(method='bfill'))#nichai wali value oper fill ho jai gi nan ma\n"
     ]
    }
   ],
   "source": [
    "print(data.fillna(method='bfill'))#nichai wali value oper fill ho jai gi nan ma"
   ]
  },
  {
   "cell_type": "code",
   "execution_count": 19,
   "id": "67080681-d89a-4843-916b-66e7519f7ef2",
   "metadata": {},
   "outputs": [
    {
     "name": "stdout",
     "output_type": "stream",
     "text": [
      "    EEID    NAME GENDER   SALARY\n",
      "0  EMP01   UMAMA      F      NaN\n",
      "1  EMP02  FATIMA      F  23000.0\n",
      "2  EMP03   USMAN      M   7890.0\n",
      "3  EMP04   KINZA      F   4567.0\n",
      "4  EMP01   UMAMA      F  24108.0\n",
      "5  EMP02  FATIMA    NaN   2345.0\n",
      "6  EMP05     NaN      F   6669.0\n"
     ]
    }
   ],
   "source": [
    "print(data)"
   ]
  },
  {
   "cell_type": "code",
   "execution_count": 20,
   "id": "6086097f-0de9-4d5f-9976-2fc28d3ad136",
   "metadata": {},
   "outputs": [
    {
     "name": "stdout",
     "output_type": "stream",
     "text": [
      "    EEID    NAME GENDER   SALARY\n",
      "0  EMP01   UMAMA      F      NaN\n",
      "1  EMP02  FATIMA      F  23000.0\n",
      "2  EMP03   USMAN      M   7890.0\n",
      "3  EMP04   KINZA      F   4567.0\n",
      "4  EMP01   UMAMA      F  24108.0\n",
      "5  EMP02  FATIMA      F   2345.0\n",
      "6  EMP05  FATIMA      F   6669.0\n"
     ]
    },
    {
     "name": "stderr",
     "output_type": "stream",
     "text": [
      "C:\\Users\\Administrator\\AppData\\Local\\Temp\\ipykernel_14224\\3450173869.py:1: FutureWarning: DataFrame.fillna with 'method' is deprecated and will raise in a future version. Use obj.ffill() or obj.bfill() instead.\n",
      "  print(data.fillna(method='ffill'))\n"
     ]
    }
   ],
   "source": [
    "print(data.fillna(method='ffill'))#oper wali value nichai"
   ]
  },
  {
   "cell_type": "code",
   "execution_count": 21,
   "id": "2df4ded0-c4ee-4358-a14a-e172fdad2811",
   "metadata": {},
   "outputs": [
    {
     "name": "stdout",
     "output_type": "stream",
     "text": [
      "    EEID    NAME GENDER   SALARY\n",
      "0  EMP01   UMAMA      F    hello\n",
      "1  EMP02  FATIMA      F  23000.0\n",
      "2  EMP03   USMAN      M   7890.0\n",
      "3  EMP04   KINZA      F   4567.0\n",
      "4  EMP01   UMAMA      F  24108.0\n",
      "5  EMP02  FATIMA  hello   2345.0\n",
      "6  EMP05   hello      F   6669.0\n"
     ]
    }
   ],
   "source": [
    "print(data.fillna('hello'))#kuch bhi words bhi karwa sehktai ha"
   ]
  },
  {
   "cell_type": "code",
   "execution_count": 23,
   "id": "d91d304f-f6b8-4676-ae15-fc09c06176fd",
   "metadata": {},
   "outputs": [
    {
     "name": "stdout",
     "output_type": "stream",
     "text": [
      "         TERM VERIFICATION_STATUS  ANNUAL_INCOME     DTI  INSTALLMENT  \\\n",
      "0   60 months     Source Verified        30000.0  0.0100        59.83   \n",
      "1   36 months     Source Verified        48000.0  0.0535       109.43   \n",
      "2   36 months        Not Verified        50000.0  0.2088       421.65   \n",
      "3   60 months     Source Verified            NaN  0.0540        97.06   \n",
      "4   36 months            Verified        83000.0  0.0231       106.53   \n",
      "5   36 months        Not Verified        28000.0  0.1260       275.96   \n",
      "6   36 months            Verified        94800.0  0.2453       205.86   \n",
      "7   36 months     Source Verified        59000.0  0.0665       172.10   \n",
      "8   36 months            Verified       116400.0  0.0394       762.08   \n",
      "9   60 months        Not Verified        36000.0  0.1773        93.21   \n",
      "\n",
      "   INT_RATE  LOAN AMOUNT  TOTAL ACCOUNT  PAYMENT  LOAN_STATUS  \n",
      "0    0.1527      2500.00            4.0     1009   Fully Paid  \n",
      "1    0.1864         0.00            NaN     3939  Charged Off  \n",
      "2    0.1596     12000.00           11.0     3522   Fully Paid  \n",
      "3    0.1065      4500.00            9.0     4911   Fully Paid  \n",
      "4    0.0603         0.00           28.0     3835   Fully Paid  \n",
      "5    0.1465      8000.00           11.0     8637   Fully Paid  \n",
      "6       NaN         0.12           30.0     7218   Fully Paid  \n",
      "7    0.0790      5500.00            NaN     6172  Charged Off  \n",
      "8    0.0890     24000.00           31.0     8650   Fully Paid  \n",
      "9    0.1269      4125.00           21.0     5551   Fully Paid  \n"
     ]
    }
   ],
   "source": [
    "#column transformation\n",
    "data=ps.read_excel('Umama text pandas file.xlsx')\n",
    "print(data)\n"
   ]
  },
  {
   "cell_type": "code",
   "execution_count": 29,
   "id": "68e065c4-c394-49c0-9548-a49eb3564682",
   "metadata": {},
   "outputs": [
    {
     "name": "stdout",
     "output_type": "stream",
     "text": [
      "         TERM VERIFICATION_STATUS  ANNUAL_INCOME     DTI  INSTALLMENT  \\\n",
      "0   60 months     Source Verified        30000.0  0.0100        59.83   \n",
      "1   36 months     Source Verified        48000.0  0.0535       109.43   \n",
      "2   36 months        Not Verified        50000.0  0.2088       421.65   \n",
      "3   60 months     Source Verified            NaN  0.0540        97.06   \n",
      "4   36 months            Verified        83000.0  0.0231       106.53   \n",
      "5   36 months        Not Verified        28000.0  0.1260       275.96   \n",
      "6   36 months            Verified        94800.0  0.2453       205.86   \n",
      "7   36 months     Source Verified        59000.0  0.0665       172.10   \n",
      "8   36 months            Verified       116400.0  0.0394       762.08   \n",
      "9   60 months        Not Verified        36000.0  0.1773        93.21   \n",
      "\n",
      "   INT_RATE  LOAN AMOUNT  TOTAL ACCOUNT  PAYMENT  LOAN_STATUS Good_vs_Bad  \n",
      "0    0.1527      2500.00            4.0     1009   Fully Paid   Good Loan  \n",
      "1    0.1864         0.00            NaN     3939  Charged Off    Bad Loan  \n",
      "2    0.1596     12000.00           11.0     3522   Fully Paid   Good Loan  \n",
      "3    0.1065      4500.00            9.0     4911   Fully Paid   Good Loan  \n",
      "4    0.0603         0.00           28.0     3835   Fully Paid   Good Loan  \n",
      "5    0.1465      8000.00           11.0     8637   Fully Paid   Good Loan  \n",
      "6       NaN         0.12           30.0     7218   Fully Paid   Good Loan  \n",
      "7    0.0790      5500.00            NaN     6172  Charged Off    Bad Loan  \n",
      "8    0.0890     24000.00           31.0     8650   Fully Paid   Good Loan  \n",
      "9    0.1269      4125.00           21.0     5551   Fully Paid   Good Loan  \n"
     ]
    }
   ],
   "source": [
    "data.loc[(data['LOAN_STATUS']== 'Fully Paid'), 'Good_vs_Bad']='Good Loan'\n",
    "data.loc[(data['LOAN_STATUS']== 'Charged Off'), 'Good_vs_Bad']='Bad Loan'\n",
    "print(data)\n",
    "#new col inserting"
   ]
  },
  {
   "cell_type": "code",
   "execution_count": 30,
   "id": "b220d75a-559d-4be0-917d-45877ef6f3f6",
   "metadata": {},
   "outputs": [
    {
     "name": "stdout",
     "output_type": "stream",
     "text": [
      "    EEID    NAME GENDER   SALARY\n",
      "0  EMP01   UMAMA      F      NaN\n",
      "1  EMP02  FATIMA      F  23000.0\n",
      "2  EMP03   USMAN      M   7890.0\n",
      "3  EMP04   KINZA      F   4567.0\n",
      "4  EMP01   UMAMA      F  24108.0\n",
      "5  EMP02  FATIMA    NaN   2345.0\n",
      "6  EMP05     NaN      F   6669.0\n"
     ]
    }
   ],
   "source": [
    "#get full name col also convet into lowwer uppercase and give space\n",
    "data=ps.read_csv('test_data_csv.csv')\n",
    "print(data)\n"
   ]
  },
  {
   "cell_type": "code",
   "execution_count": 45,
   "id": "8d57f838-e873-47d1-9771-60e69cb201d8",
   "metadata": {},
   "outputs": [
    {
     "name": "stdout",
     "output_type": "stream",
     "text": [
      "    EEID    NAME GENDER   SALARY Employee Code\n",
      "0  EMP01   UMAMA      F      NaN   UMAMA EMP01\n",
      "1  EMP02  FATIMA      F  23000.0  FATIMA EMP02\n",
      "2  EMP03   USMAN      M   7890.0   USMAN EMP03\n",
      "3  EMP04   KINZA      F   4567.0   KINZA EMP04\n",
      "4  EMP01   UMAMA      F  24108.0   UMAMA EMP01\n",
      "5  EMP02  FATIMA    NaN   2345.0  FATIMA EMP02\n",
      "6  EMP05     NaN      F   6669.0           NaN\n",
      "\n",
      "    EEID    NAME GENDER   SALARY\n",
      "0  EMP01   UMAMA      F      NaN\n",
      "1  EMP02  FATIMA      F  23000.0\n",
      "2  EMP03   USMAN      M   7890.0\n",
      "3  EMP04   KINZA      F   4567.0\n",
      "4  EMP01   UMAMA      F  24108.0\n",
      "5  EMP02  FATIMA    NaN   2345.0\n",
      "6  EMP05     NaN      F   6669.0\n"
     ]
    }
   ],
   "source": [
    "data['Employee Code']=data['NAME']+' '+data['EEID']\n",
    "print(data)\n",
    "print()\n",
    "data.pop('Employee Code')#remove full col\n",
    "print(data)"
   ]
  },
  {
   "cell_type": "code",
   "execution_count": 2,
   "id": "3e0ce574-eb01-4956-b191-20688a6a6bd6",
   "metadata": {},
   "outputs": [
    {
     "ename": "NameError",
     "evalue": "name 'data' is not defined",
     "output_type": "error",
     "traceback": [
      "\u001b[1;31m---------------------------------------------------------------------------\u001b[0m",
      "\u001b[1;31mNameError\u001b[0m                                 Traceback (most recent call last)",
      "Cell \u001b[1;32mIn[2], line 1\u001b[0m\n\u001b[1;32m----> 1\u001b[0m data[\u001b[38;5;124m'\u001b[39m\u001b[38;5;124mEmployee Code\u001b[39m\u001b[38;5;124m'\u001b[39m]\u001b[38;5;241m=\u001b[39m\u001b[43mdata\u001b[49m[\u001b[38;5;124m'\u001b[39m\u001b[38;5;124mNAME\u001b[39m\u001b[38;5;124m'\u001b[39m]\u001b[38;5;241m.\u001b[39mstr\u001b[38;5;241m.\u001b[39mlower()\u001b[38;5;241m+\u001b[39mdata[\u001b[38;5;124m'\u001b[39m\u001b[38;5;124mEEID\u001b[39m\u001b[38;5;124m'\u001b[39m]\n\u001b[0;32m      2\u001b[0m data[\u001b[38;5;124m'\u001b[39m\u001b[38;5;124mEEID\u001b[39m\u001b[38;5;124m'\u001b[39m]\u001b[38;5;241m=\u001b[39mdata[\u001b[38;5;124m'\u001b[39m\u001b[38;5;124mEEID\u001b[39m\u001b[38;5;124m'\u001b[39m]\n\u001b[0;32m      4\u001b[0m \u001b[38;5;28mprint\u001b[39m(data[\u001b[38;5;124m'\u001b[39m\u001b[38;5;124mEEID\u001b[39m\u001b[38;5;124m'\u001b[39m])\n",
      "\u001b[1;31mNameError\u001b[0m: name 'data' is not defined"
     ]
    }
   ],
   "source": [
    "data['Employee Code']=data['NAME'].str.lower()+data['EEID']\n",
    "data['EEID']=data['EEID']\n",
    "\n",
    "print(data['EEID'])"
   ]
  },
  {
   "cell_type": "code",
   "execution_count": null,
   "id": "e6bba5f5-7aad-48aa-855b-c082f0f53598",
   "metadata": {},
   "outputs": [],
   "source": [
    "data['SALARY']"
   ]
  },
  {
   "cell_type": "code",
   "execution_count": 5,
   "id": "449c6c5c-71af-4604-b91e-efce09af9cdf",
   "metadata": {},
   "outputs": [
    {
     "name": "stdout",
     "output_type": "stream",
     "text": [
      "    Months\n",
      "0  January\n",
      "1  Febuary\n",
      "2    March\n",
      "3    April\n"
     ]
    }
   ],
   "source": [
    "import pandas as ps\n",
    "data={'Months':['January','Febuary','March','April']}\n",
    "allinged=ps.DataFrame(data)\n",
    "print(allinged)"
   ]
  },
  {
   "cell_type": "code",
   "execution_count": 9,
   "id": "f6908587-c646-4514-888c-5cc50f5d2e49",
   "metadata": {},
   "outputs": [
    {
     "name": "stdout",
     "output_type": "stream",
     "text": [
      "    Months Short_Month\n",
      "0  January         Jan\n",
      "1  Febuary         Feb\n",
      "2    March         Mar\n",
      "3    April         Apr\n"
     ]
    }
   ],
   "source": [
    "import pandas as ps\n",
    "data={'Months':['January','Febuary','March','April']}\n",
    "allinged=ps.DataFrame(data)\n",
    "\n",
    "def extract(value):\n",
    "    return value[0:3]\n",
    "allinged['Short_Month']=allinged['Months'].map(extract)\n",
    "print(allinged)"
   ]
  },
  {
   "cell_type": "code",
   "execution_count": 11,
   "id": "f6b14233-4595-44c0-9720-144431d5619c",
   "metadata": {},
   "outputs": [
    {
     "name": "stdout",
     "output_type": "stream",
     "text": [
      "         TERM VERIFICATION_STATUS  ANNUAL_INCOME     DTI  INSTALLMENT  \\\n",
      "0   60 months     Source Verified        30000.0  0.0100        59.83   \n",
      "1   36 months     Source Verified        48000.0  0.0535       109.43   \n",
      "2   36 months        Not Verified        50000.0  0.2088       421.65   \n",
      "3   60 months     Source Verified            NaN  0.0540        97.06   \n",
      "4   36 months            Verified        83000.0  0.0231       106.53   \n",
      "5   36 months        Not Verified        28000.0  0.1260       275.96   \n",
      "6   36 months            Verified        94800.0  0.2453       205.86   \n",
      "7   36 months     Source Verified        59000.0  0.0665       172.10   \n",
      "8   36 months            Verified       116400.0  0.0394       762.08   \n",
      "9   60 months        Not Verified        36000.0  0.1773        93.21   \n",
      "\n",
      "   INT_RATE  LOAN AMOUNT  TOTAL ACCOUNT  PAYMENT  LOAN_STATUS Good_vs_Bad  \n",
      "0    0.1527      2500.00            4.0     1009   Fully Paid   Good Loan  \n",
      "1    0.1864         0.00            NaN     3939  Charged Off    Bad Loan  \n",
      "2    0.1596     12000.00           11.0     3522   Fully Paid   Good Loan  \n",
      "3    0.1065      4500.00            9.0     4911   Fully Paid   Good Loan  \n",
      "4    0.0603         0.00           28.0     3835   Fully Paid   Good Loan  \n",
      "5    0.1465      8000.00           11.0     8637   Fully Paid   Good Loan  \n",
      "6       NaN         0.12           30.0     7218   Fully Paid   Good Loan  \n",
      "7    0.0790      5500.00            NaN     6172  Charged Off    Bad Loan  \n",
      "8    0.0890     24000.00           31.0     8650   Fully Paid   Good Loan  \n",
      "9    0.1269      4125.00           21.0     5551   Fully Paid   Good Loan  \n"
     ]
    }
   ],
   "source": [
    "#Group by in Pandas(summarizes the data)\n",
    "data=ps.read_excel('Umama text pandas file.xlsx')\n",
    "\n",
    "data.loc[(data['LOAN_STATUS']== 'Fully Paid'), 'Good_vs_Bad']='Good Loan'\n",
    "data.loc[(data['LOAN_STATUS']== 'Charged Off'), 'Good_vs_Bad']='Bad Loan'\n",
    "print(data)"
   ]
  },
  {
   "cell_type": "code",
   "execution_count": 19,
   "id": "82548b3a-35ba-47c1-bbb5-92072f4d99fd",
   "metadata": {},
   "outputs": [
    {
     "name": "stdout",
     "output_type": "stream",
     "text": [
      "             Good_vs_Bad\n",
      "LOAN_STATUS             \n",
      "Charged Off            2\n",
      "Fully Paid             8\n",
      "\n",
      "           VERIFICATION_STATUS\n",
      "TERM                          \n",
      "36 months                    7\n",
      "60 months                    3\n",
      "\n",
      "          VERIFICATION_STATUS\n",
      "TERM                         \n",
      "36 months            Verified\n",
      "60 months     Source Verified\n",
      "\n",
      "            Good_vs_Bad\n",
      "LOAN_STATUS            \n",
      "Charged Off    Bad Loan\n",
      "Fully Paid    Good Loan\n"
     ]
    }
   ],
   "source": [
    "#categery\n",
    "summarize=data.groupby(['LOAN_STATUS']).agg({'Good_vs_Bad':'count'})\n",
    "print(summarize)\n",
    "print()\n",
    "gp=data.groupby(['TERM']).agg({'VERIFICATION_STATUS':'count'})\n",
    "print(gp)\n",
    "print()\n",
    "gp=data.groupby(['TERM']).agg({'VERIFICATION_STATUS':'max'})\n",
    "print(gp)\n",
    "print()\n",
    "summarize=data.groupby(['LOAN_STATUS']).agg({'Good_vs_Bad':'min'})\n",
    "print(summarize)"
   ]
  },
  {
   "cell_type": "code",
   "execution_count": null,
   "id": "46fbfcd5-bb2c-4861-815a-57733bf8752c",
   "metadata": {},
   "outputs": [],
   "source": [
    "#double or triple parameter dai kr sehktai hu ap "
   ]
  },
  {
   "cell_type": "code",
   "execution_count": 19,
   "id": "fde174a4-4d85-4d0a-b50a-e93df8fc374d",
   "metadata": {},
   "outputs": [
    {
     "name": "stdout",
     "output_type": "stream",
     "text": [
      "  Emp Id    Name  Age\n",
      "0    EO1   Talha   12\n",
      "1    E02  Kashan   56\n",
      "2    E03   Usman   18\n",
      "3    E04    Riaz   22\n",
      "4    E05  Faizan   28\n",
      "5    E06   Osama   30\n",
      "\n",
      "  Emp Id  salary\n",
      "0    EO1    2345\n",
      "1    E02     987\n",
      "2    E07    4567\n",
      "3    E04   12340\n",
      "4    E08   14456\n",
      "5    E06    9000\n"
     ]
    }
   ],
   "source": [
    "#MERGE,JOIN AND CONCATENATE\n",
    "import pandas as ps\n",
    "data1={'Emp Id':['EO1','E02','E03','E04','E05','E06'],\n",
    "       'Name':['Talha','Kashan','Usman','Riaz','Faizan','Osama'],\n",
    "       'Age':[12,56,18,22,28,30]}\n",
    "data2={'Emp Id':['EO1','E02','E07','E04','E08','E06'],\n",
    "       'salary':[2345,987,4567,12340,14456,9000]}\n",
    "\n",
    "s1=ps.DataFrame(data1)\n",
    "s2=ps.DataFrame(data2)\n",
    "print(s1)\n",
    "print( )\n",
    "print(s2)"
   ]
  },
  {
   "cell_type": "code",
   "execution_count": 11,
   "id": "4c30dd36-bb71-4f4b-93f6-4c95b079bc1b",
   "metadata": {},
   "outputs": [
    {
     "name": "stdout",
     "output_type": "stream",
     "text": [
      "  Emp Id    Name  Age  salary\n",
      "0    EO1   Talha   12    2345\n",
      "1    E02  Kashan   56     987\n",
      "2    E03   Usman   18    4567\n",
      "3    E04    Riaz   22   12340\n",
      "4    E05  Faizan   28   14456\n",
      "5    E06   Osama   30    9000\n"
     ]
    }
   ],
   "source": [
    "print(ps.merge(s1,s2,on = 'Emp Id'))\n"
   ]
  },
  {
   "cell_type": "code",
   "execution_count": 14,
   "id": "ff66f240-f250-4d8d-801e-568496c4b78c",
   "metadata": {},
   "outputs": [
    {
     "name": "stdout",
     "output_type": "stream",
     "text": [
      "  Emp Id    Name  Age  salary\n",
      "0    EO1   Talha   12    2345\n",
      "1    E02  Kashan   56     987\n",
      "2    E03   Usman   18    4567\n",
      "3    E04    Riaz   22   12340\n",
      "4    E05  Faizan   28   14456\n",
      "5    E06   Osama   30    9000\n"
     ]
    }
   ],
   "source": [
    "print(ps.merge(s1,s2,on= 'Emp Id', how='inner'))\n",
    "#"
   ]
  },
  {
   "cell_type": "code",
   "execution_count": 20,
   "id": "453e1093-365f-4a84-9ad7-71873df2e6dd",
   "metadata": {},
   "outputs": [
    {
     "name": "stdout",
     "output_type": "stream",
     "text": [
      "  Emp Id    Name  Age   salary\n",
      "0    EO1   Talha   12   2345.0\n",
      "1    E02  Kashan   56    987.0\n",
      "2    E03   Usman   18      NaN\n",
      "3    E04    Riaz   22  12340.0\n",
      "4    E05  Faizan   28      NaN\n",
      "5    E06   Osama   30   9000.0\n"
     ]
    }
   ],
   "source": [
    "print(ps.merge(left= s1,right= s2,on= 'Emp Id', how='left'))"
   ]
  },
  {
   "cell_type": "code",
   "execution_count": 21,
   "id": "02e6cf81-3954-47f8-bd4a-f6ad3265e90e",
   "metadata": {},
   "outputs": [
    {
     "name": "stdout",
     "output_type": "stream",
     "text": [
      "  Emp Id    Name   Age  salary\n",
      "0    EO1   Talha  12.0    2345\n",
      "1    E02  Kashan  56.0     987\n",
      "2    E07     NaN   NaN    4567\n",
      "3    E04    Riaz  22.0   12340\n",
      "4    E08     NaN   NaN   14456\n",
      "5    E06   Osama  30.0    9000\n"
     ]
    }
   ],
   "source": [
    "print(ps.merge(left= s1,right= s2,on= 'Emp Id', how='right'))"
   ]
  },
  {
   "cell_type": "code",
   "execution_count": null,
   "id": "06b8d567-128a-430a-9e0f-bdba2b30d53d",
   "metadata": {},
   "outputs": [],
   "source": []
  },
  {
   "cell_type": "code",
   "execution_count": 21,
   "id": "10ea43f6-84f3-4045-ae3e-badd22418b4e",
   "metadata": {},
   "outputs": [
    {
     "name": "stdout",
     "output_type": "stream",
     "text": [
      "  Emp Id    Name  Age\n",
      "0    EO1   Talha   12\n",
      "1    E02  Kashan   56\n",
      "2    E03   Usman   18\n",
      "3    E04    Riaz   22\n",
      "4    E05  Faizan   28\n",
      "5    E06   Osama   30\n",
      "0    EO7  Maheen   12\n",
      "1    E08    Saba   56\n",
      "2    E09   Umama   18\n",
      "3   E010   Kinza   22\n",
      "4   E011    Rida   28\n",
      "5   E012  Fatima   30\n"
     ]
    }
   ],
   "source": [
    "import pandas as ps\n",
    "data1={'Emp Id':['EO1','E02','E03','E04','E05','E06'],\n",
    "       'Name':['Talha','Kashan','Usman','Riaz','Faizan','Osama'],\n",
    "       'Age':[12,56,18,22,28,30]}\n",
    "data2={'Emp Id':['EO7','E08','E09','E010','E011','E012'],\n",
    "       'Name':['Maheen','Saba','Umama','Kinza','Rida','Fatima'],\n",
    "       'Age':[12,56,18,22,28,30]}\n",
    "\n",
    "d1=ps.DataFrame(data1)\n",
    "d2=ps.DataFrame(data2) \n",
    "print(ps.concat([d1,d2]))#ek dosra ka nichai la kr rehkta ha"
   ]
  },
  {
   "cell_type": "code",
   "execution_count": 28,
   "id": "34355b84-f24a-48c9-bcd0-3ec7aa4c46c7",
   "metadata": {},
   "outputs": [
    {
     "name": "stdout",
     "output_type": "stream",
     "text": [
      "     Veges  Price  Quantity\n",
      "0   Potato    190        12\n",
      "1   Tomato    200        10\n",
      "2  Bringal    179        15\n",
      "3    Onion    200         6\n",
      "     Veges  Price  Quantity\n",
      "0   Potato    120        10\n",
      "1   Tomato    150        11\n",
      "2  Bringal    220        20\n",
      "3    Onion    200         6\n",
      "   Price        Quantity      \n",
      "    self  other     self other\n",
      "0  190.0  120.0     12.0  10.0\n",
      "1  200.0  150.0     10.0  11.0\n",
      "2  179.0  220.0     15.0  20.0\n",
      "  Price       Quantity      \n",
      "   self other     self other\n",
      "0   190   120       12    10\n",
      "1   200   150       10    11\n",
      "2   179   220       15    20\n",
      "  Veges        Price        Quantity      \n",
      "   self other   self  other     self other\n",
      "0   NaN   NaN  190.0  120.0     12.0  10.0\n",
      "1   NaN   NaN  200.0  150.0     10.0  11.0\n",
      "2   NaN   NaN  179.0  220.0     15.0  20.0\n",
      "3   NaN   NaN    NaN    NaN      NaN   NaN\n"
     ]
    }
   ],
   "source": [
    "#pandas compare DataFrames\n",
    "dic={'Veges':['Potato','Tomato','Bringal','Onion'],\n",
    "     'Price':[190,200,179,200],\n",
    "     'Quantity':[12,10,15,6]}\n",
    "d1=ps.DataFrame(dic)\n",
    "print(ps.DataFrame(dic))\n",
    "\n",
    "d2=d1.copy()\n",
    "d2.loc[0,'Price']=120\n",
    "d2.loc[1,'Price']=150\n",
    "d2.loc[2,'Price']=220\n",
    "d2.loc[3,'Price']=200\n",
    "d2.loc[0,'Quantity']=10\n",
    "d2.loc[1,'Quantity']=11\n",
    "d2.loc[2,'Quantity']=20\n",
    "d2.loc[3,'Quantity']=6\n",
    "print(d2)\n",
    "#for compare\n",
    "print(d1.compare(d2))\n",
    "print(d1.compare(d2,keep_equal=True))#default condition (o cond given tu kia karo gi)\n",
    "print(d1.compare(d2,keep_shape=True))#\n"
   ]
  },
  {
   "cell_type": "code",
   "execution_count": 50,
   "id": "ed4e8b44-6cec-4beb-9d0d-bdfc4810ae35",
   "metadata": {},
   "outputs": [
    {
     "name": "stdout",
     "output_type": "stream",
     "text": [
      "  keys   names     color dishes\n",
      "0   k1   umama      blue  pulao\n",
      "1   k2   usama     white  kofta\n",
      "2   k1  fatima  sky blue  pasta\n",
      "3   k2    saba     peach    bbq\n",
      "          color                     dishes                   \n",
      "names    fatima   saba umama  usama fatima saba  umama  usama\n",
      "keys                                                         \n",
      "k1     sky blue    NaN  blue    NaN  pasta  NaN  pulao    NaN\n",
      "k2          NaN  peach   NaN  white    NaN  bbq    NaN  kofta\n"
     ]
    }
   ],
   "source": [
    "#pivoting and melting dataframe\n",
    "#first col ko as a row la ga phr dosra col ko index ka hisab sa place karai ga  or rest of it is NAN\n",
    "import pandas as ps\n",
    "dic={'keys':['k1','k2','k1','k2'],\n",
    "     'names':['umama','usama','fatima','saba'],\n",
    "     'color':['blue','white','sky blue','peach'],\n",
    "    'dishes':['pulao','kofta','pasta','bbq']}\n",
    "d1=ps.DataFrame(dic)\n",
    "print(d1)\n",
    "print(d1.pivot(index=\"keys\",columns=\"names\",values=[\"color\",\"dishes\"]))"
   ]
  },
  {
   "cell_type": "code",
   "execution_count": 58,
   "id": "abd08e59-3f63-4244-a3b1-79703aa33b0c",
   "metadata": {},
   "outputs": [
    {
     "name": "stdout",
     "output_type": "stream",
     "text": [
      "    names     color dishes\n",
      "0   umama      blue  pulao\n",
      "1   usama     white  kofta\n",
      "2  fatima  sky blue  pasta\n",
      "3    saba     peach    bbq\n",
      "\n",
      "    names variable     value\n",
      "0   umama    color      blue\n",
      "1   usama    color     white\n",
      "2  fatima    color  sky blue\n",
      "3    saba    color     peach\n",
      "4   umama   dishes     pulao\n",
      "5   usama   dishes     kofta\n",
      "6  fatima   dishes     pasta\n",
      "7    saba   dishes       bbq\n",
      "\n",
      "    names color&dishes    output\n",
      "0   umama        color      blue\n",
      "1   usama        color     white\n",
      "2  fatima        color  sky blue\n",
      "3    saba        color     peach\n",
      "4   umama       dishes     pulao\n",
      "5   usama       dishes     kofta\n",
      "6  fatima       dishes     pasta\n",
      "7    saba       dishes       bbq\n"
     ]
    }
   ],
   "source": [
    "dic= {'names':['umama','usama','fatima','saba'],\n",
    "     'color':['blue','white','sky blue','peach'],\n",
    "    'dishes':['pulao','kofta','pasta','bbq']}\n",
    "d1=ps.DataFrame(dic)\n",
    "print(d1)\n",
    "print()\n",
    "print(ps.melt(d1,id_vars=['names'],value_vars=['color','dishes']))\n",
    "#col name\n",
    "print()\n",
    "print(ps.melt(d1,id_vars=['names'],value_vars=['color','dishes'],var_name='color&dishes',value_name='output'))"
   ]
  },
  {
   "cell_type": "code",
   "execution_count": 59,
   "id": "7542d5d3-63b4-4121-ab45-b5f06ea197e1",
   "metadata": {},
   "outputs": [
    {
     "ename": "ModuleNotFoundError",
     "evalue": "No module named 'matplotlib'",
     "output_type": "error",
     "traceback": [
      "\u001b[1;31m---------------------------------------------------------------------------\u001b[0m",
      "\u001b[1;31mModuleNotFoundError\u001b[0m                       Traceback (most recent call last)",
      "Cell \u001b[1;32mIn[59], line 4\u001b[0m\n\u001b[0;32m      1\u001b[0m \u001b[38;5;66;03m#intro to matplotlib\u001b[39;00m\n\u001b[0;32m      2\u001b[0m \u001b[38;5;66;03m#graphical representation diffrent charts in form and the all charts represent diffrent values\u001b[39;00m\n\u001b[0;32m      3\u001b[0m \u001b[38;5;66;03m#BAR PLOT\u001b[39;00m\n\u001b[1;32m----> 4\u001b[0m \u001b[38;5;28;01mimport\u001b[39;00m \u001b[38;5;21;01mmatplotlib\u001b[39;00m\u001b[38;5;21;01m.\u001b[39;00m\u001b[38;5;21;01mpyplot\u001b[39;00m \u001b[38;5;28;01mas\u001b[39;00m \u001b[38;5;21;01mpt\u001b[39;00m\n\u001b[0;32m      5\u001b[0m values\u001b[38;5;241m=\u001b[39m[\u001b[38;5;241m23\u001b[39m,\u001b[38;5;241m97\u001b[39m,\u001b[38;5;241m12\u001b[39m,\u001b[38;5;241m11\u001b[39m,\u001b[38;5;241m34\u001b[39m]\n\u001b[0;32m      6\u001b[0m scenes\u001b[38;5;241m=\u001b[39m[\u001b[38;5;124m'\u001b[39m\u001b[38;5;124mpart1\u001b[39m\u001b[38;5;124m'\u001b[39m,\u001b[38;5;124m'\u001b[39m\u001b[38;5;124mpart2\u001b[39m\u001b[38;5;124m'\u001b[39m,\u001b[38;5;124m'\u001b[39m\u001b[38;5;124mpart3\u001b[39m\u001b[38;5;124m'\u001b[39m,\u001b[38;5;124m'\u001b[39m\u001b[38;5;124mpart4\u001b[39m\u001b[38;5;124m'\u001b[39m,\u001b[38;5;124m'\u001b[39m\u001b[38;5;124mpart5\u001b[39m\u001b[38;5;124m'\u001b[39m]\n",
      "\u001b[1;31mModuleNotFoundError\u001b[0m: No module named 'matplotlib'"
     ]
    }
   ],
   "source": [
    "#intro to matplotlib\n",
    "#graphical representation diffrent charts in form and the all charts represent diffrent values\n",
    "#BAR PLOT\n",
    "import matplotlib.pyplot as pt\n",
    "values=[23,97,12,11,34]\n",
    "scenes=['part1','part2','part3','part4','part5']\n",
    "\n",
    "pt.bar(scenes,values)\n",
    "#jo pehlai du gi wo nichai ai ga jo bd ma wo oper\n",
    "#show means print\n",
    "pt.show()"
   ]
  },
  {
   "cell_type": "code",
   "execution_count": null,
   "id": "8e8dd9fe-b0b2-4f2e-9d3b-0ab220adf175",
   "metadata": {},
   "outputs": [],
   "source": [
    "\n",
    "\n"
   ]
  }
 ],
 "metadata": {
  "kernelspec": {
   "display_name": "Python 3 (ipykernel)",
   "language": "python",
   "name": "python3"
  },
  "language_info": {
   "codemirror_mode": {
    "name": "ipython",
    "version": 3
   },
   "file_extension": ".py",
   "mimetype": "text/x-python",
   "name": "python",
   "nbconvert_exporter": "python",
   "pygments_lexer": "ipython3",
   "version": "3.12.1"
  }
 },
 "nbformat": 4,
 "nbformat_minor": 5
}
